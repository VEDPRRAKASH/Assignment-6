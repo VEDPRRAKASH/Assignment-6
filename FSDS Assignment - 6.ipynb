{
 "cells": [
  {
   "cell_type": "code",
   "execution_count": 1,
   "id": "92d52ee8",
   "metadata": {},
   "outputs": [],
   "source": [
    "#1. What are escape characters, and how do you use them?\n",
    "#Solution: The escape characters that are used in python are '\\t' is a tab, '\\n' is a new line and '\\r' is a carriage return."
   ]
  },
  {
   "cell_type": "code",
   "execution_count": 2,
   "id": "b13476aa",
   "metadata": {},
   "outputs": [],
   "source": [
    "#2. What do the escape characters n and t stand for?\n",
    "#Solution: The escape characters n and t stands for a tab and a new line respectively."
   ]
  },
  {
   "cell_type": "code",
   "execution_count": 3,
   "id": "15fc05cd",
   "metadata": {},
   "outputs": [],
   "source": [
    "#3. What is the way to include backslash characters in a string?\n",
    "#Solution: To include backslash in a string we will have to use two backslashes or symbol @ before the string included with the backslash.\n",
    "#Example : \"\\\\Ved\" or name = @\"\\Ved\"\n"
   ]
  },
  {
   "cell_type": "code",
   "execution_count": 4,
   "id": "86c19fcd",
   "metadata": {},
   "outputs": [],
   "source": [
    "#4. The string \"Howl's Moving Castle\" is a correct value. Why isn't the single quote character in the word Howl's not escaped a problem?\n",
    "#Solution: The single quote character in the word Howl's is correct because we have used double quote \"\" to mark the beginning and the end of the statement."
   ]
  },
  {
   "cell_type": "code",
   "execution_count": 5,
   "id": "d4bd2285",
   "metadata": {},
   "outputs": [],
   "source": [
    "#5. How do you write a string of newlines if you don't want to use the n character?\n",
    "#Solution: We can use the multi line strings to write a string of new lines."
   ]
  },
  {
   "cell_type": "code",
   "execution_count": 6,
   "id": "decedd86",
   "metadata": {},
   "outputs": [],
   "source": [
    "#6. What are the values of the given expressions?\n",
    "#'Hello, world!'[1]\n",
    "#'Hello, world!'[0:5]\n",
    "#'Hello, world!'[:5]\n",
    "#'Hello, world!'[3:]\n",
    "#Solution: The above given expressions give the values: a)'e'; b)'Hello'; c)'Hello'; d)'lo, world!'"
   ]
  },
  {
   "cell_type": "code",
   "execution_count": 7,
   "id": "7ee4b9bd",
   "metadata": {},
   "outputs": [],
   "source": [
    "#7. What are the values of the following expressions?\n",
    "#'Hello'.upper()\n",
    "#'Hello'.upper().isupper()\n",
    "#'Hello'.upper().lower()\n",
    "#Solution: The values for the given expressions are: a)'HELLO'; b)True; c)'hello'"
   ]
  },
  {
   "cell_type": "code",
   "execution_count": 8,
   "id": "d698e722",
   "metadata": {},
   "outputs": [],
   "source": [
    "#8. What are the values of the following expressions?\n",
    "#'Remember, remember, the fifth of July.'.split()\n",
    "#'-'.join('There can only one.'.split())\n",
    "#Solution: The values of the given expressions are: a)['Remember,', 'remember,', 'the', 'fifth', 'of', 'July.'];\n",
    "        #b)'There-can-only-one.'"
   ]
  },
  {
   "cell_type": "code",
   "execution_count": 9,
   "id": "e8ed2442",
   "metadata": {},
   "outputs": [],
   "source": [
    "#9. What are the methods for right-justifying, left-justifying, and centering a string?\n",
    "#Solution: The rjust(), ljust(), and center() string methods are used respectively for the above."
   ]
  },
  {
   "cell_type": "code",
   "execution_count": 10,
   "id": "f312baee",
   "metadata": {},
   "outputs": [],
   "source": [
    "#10. What is the best way to remove whitespace characters from the start or end?\n",
    "#Solution: The lstrip() and rstrip() methods remove whitespace from the left and right ends of a string, respectively."
   ]
  }
 ],
 "metadata": {
  "kernelspec": {
   "display_name": "Python 3 (ipykernel)",
   "language": "python",
   "name": "python3"
  },
  "language_info": {
   "codemirror_mode": {
    "name": "ipython",
    "version": 3
   },
   "file_extension": ".py",
   "mimetype": "text/x-python",
   "name": "python",
   "nbconvert_exporter": "python",
   "pygments_lexer": "ipython3",
   "version": "3.9.7"
  }
 },
 "nbformat": 4,
 "nbformat_minor": 5
}
